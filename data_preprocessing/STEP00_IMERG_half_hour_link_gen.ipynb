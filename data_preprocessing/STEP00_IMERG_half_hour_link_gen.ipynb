{
 "cells": [
  {
   "cell_type": "markdown",
   "id": "f175070a-7a01-4346-a1ce-1798d1e6ae55",
   "metadata": {},
   "source": [
    "# Generate downloading links for IMERG v7.0 final half-hour product"
   ]
  },
  {
   "cell_type": "code",
   "execution_count": 1,
   "id": "de16b779-290c-4d5c-82f8-94539cec8fc8",
   "metadata": {},
   "outputs": [],
   "source": [
    "import datetime"
   ]
  },
  {
   "cell_type": "markdown",
   "id": "138a5de7-1bac-4da3-93d8-e39cc4ac2ad0",
   "metadata": {},
   "source": [
    "**Example**\n",
    "\n",
    "https://data.gesdisc.earthdata.nasa.gov/data/GPM_L3/GPM_3IMERGHH.07/2024/270/3B-HHR.MS.MRG.3IMERG.20240926-S233000-E235959.1410.V07B.HDF5\n"
   ]
  },
  {
   "cell_type": "code",
   "execution_count": 2,
   "id": "2e40f812-daf6-451b-848e-9df071356b5d",
   "metadata": {
    "scrolled": true
   },
   "outputs": [],
   "source": [
    "\n",
    "def generate_links_for_year(year, day_of_year=163):\n",
    "    \"\"\"\n",
    "    Generates a list of URLs for all 48 half-hourly IMERG files for a given year\n",
    "    on the specified day_of_year.\n",
    "    \n",
    "    Parameters:\n",
    "      year (int): The year for which to generate links.\n",
    "      day_of_year (int): The day of the year (1-366). Default is 163.\n",
    "      \n",
    "    Returns:\n",
    "      list: A list of URL strings.\n",
    "    \"\"\"\n",
    "    # Calculate the date corresponding to the day_of_year.\n",
    "    date = datetime.datetime(year, 1, 1) + datetime.timedelta(days=day_of_year - 1)\n",
    "    date_str = date.strftime(\"%Y%m%d\")\n",
    "    # Use the day-of-year as found (this will be '163' for our chosen day)\n",
    "    doy_int = date.timetuple().tm_yday  # e.g., 1 for January 1st\n",
    "    doy_str = f\"{doy_int:03d}\"  # Formats to '001' if doy_int is 1\n",
    "    base_url = f\"https://data.gesdisc.earthdata.nasa.gov/data/GPM_L3/GPM_3IMERGHH.07/{year}/{doy_str}/\"\n",
    "    \n",
    "    links = []\n",
    "    # There are 48 half-hour intervals in a day (from 00:00 to 23:30).\n",
    "    num_intervals = 48\n",
    "    for i in range(num_intervals):\n",
    "        # Calculate the start time for the i-th interval of the day.\n",
    "        start_time = datetime.datetime(year, date.month, date.day) + datetime.timedelta(minutes=30 * i)\n",
    "        # Each file covers 29 minutes and 59 seconds.\n",
    "        end_time = start_time + datetime.timedelta(minutes=29, seconds=59)\n",
    "        # The file number is the number of minutes since midnight (e.g. 00:00 -> 0000, 00:30 -> 0030, etc.)\n",
    "        minutes_since_midnight = start_time.hour * 60 + start_time.minute\n",
    "        file_number = f\"{minutes_since_midnight:04d}\"\n",
    "        \n",
    "        file_name = (\n",
    "            f\"3B-HHR.MS.MRG.3IMERG.{date_str}-S{start_time.strftime('%H%M%S')}\"\n",
    "            f\"-E{end_time.strftime('%H%M%S')}.{file_number}.V07B.HDF5\"\n",
    "        )\n",
    "        full_link = base_url + file_name\n",
    "        links.append(full_link)\n",
    "    return links\n",
    "\n",
    "full_links = []\n",
    "\n",
    "for year in range(2000, 2023):\n",
    "\n",
    "    if year % 4 == 0:\n",
    "        N_days = 366\n",
    "    else:\n",
    "        N_days = 365\n",
    "    \n",
    "    for day in range(1, N_days+1, 1):\n",
    "        \n",
    "        full_links += generate_links_for_year(year, day)\n",
    "        "
   ]
  },
  {
   "cell_type": "code",
   "execution_count": 8,
   "id": "0e0a79ae-8c52-4bc7-9637-46944f52d52a",
   "metadata": {},
   "outputs": [
    {
     "data": {
      "text/plain": [
       "'https://data.gesdisc.earthdata.nasa.gov/data/GPM_L3/GPM_3IMERGHH.07/2001/332/3B-HHR.MS.MRG.3IMERG.20011128-S220000-E222959.1320.V07B.HDF5'"
      ]
     },
     "execution_count": 8,
     "metadata": {},
     "output_type": "execute_result"
    }
   ],
   "source": [
    "full_links[33500]"
   ]
  },
  {
   "cell_type": "code",
   "execution_count": 9,
   "id": "8023bf6f-f045-400f-b096-82b1e83c6eb5",
   "metadata": {},
   "outputs": [],
   "source": [
    "full_links = full_links[33500:]"
   ]
  },
  {
   "cell_type": "code",
   "execution_count": 10,
   "id": "622532ce-24a4-4e32-91b3-33c45b8d1ed0",
   "metadata": {
    "scrolled": true
   },
   "outputs": [],
   "source": [
    "with open(\"/glade/campaign/cisl/aiml/ksha/IMERG_V7/half_hour/download.sh\", \"w\") as file:\n",
    "    # Optional: add a bash shebang at the top\n",
    "    file.write(\"#!/bin/bash\\n\\n\")\n",
    "    \n",
    "    # Write each link on a new line\n",
    "    for link in full_links:\n",
    "        file.write(link + \"\\n\")"
   ]
  },
  {
   "cell_type": "markdown",
   "id": "b096a8c5-e0dc-431c-a81e-ff86db883bb4",
   "metadata": {},
   "source": [
    "## Downloading script"
   ]
  },
  {
   "cell_type": "raw",
   "id": "8da2a889-4ba8-4016-aa5c-1f5149c4e092",
   "metadata": {},
   "source": [
    "#!/bin/bash\n",
    "\n",
    "GREP_OPTIONS=''\n",
    "\n",
    "cookiejar=$(mktemp cookies.XXXXXXXXXX)\n",
    "netrc=$(mktemp netrc.XXXXXXXXXX)\n",
    "chmod 0600 \"$cookiejar\" \"$netrc\"\n",
    "function finish {\n",
    "  rm -rf \"$cookiejar\" \"$netrc\"\n",
    "}\n",
    "\n",
    "trap finish EXIT\n",
    "WGETRC=\"$wgetrc\"\n",
    "\n",
    "prompt_credentials() {\n",
    "    echo \"Enter your Earthdata Login or other provider supplied credentials\"\n",
    "    read -p \"Username (yingkaishancar): \" username\n",
    "    username=${username:-yingkaishancar}\n",
    "    read -s -p \"Password: \" password\n",
    "    echo \"machine urs.earthdata.nasa.gov login $username password $password\" >> $netrc\n",
    "    echo\n",
    "}\n",
    "\n",
    "exit_with_error() {\n",
    "    echo\n",
    "    echo \"Unable to Retrieve Data\"\n",
    "    echo\n",
    "    echo $1\n",
    "    echo\n",
    "    echo \"https://data.gesdisc.earthdata.nasa.gov/data/GPM_L3/GPM_3IMERGHH.07/2024/274/3B-HHR.MS.MRG.3IMERG.20240930-S233000-E235959.1410.V07B.HDF5\"\n",
    "    echo\n",
    "    exit 1\n",
    "}\n",
    "\n",
    "prompt_credentials\n",
    "  detect_app_approval() {\n",
    "    approved=`curl -s -b \"$cookiejar\" -c \"$cookiejar\" -L --max-redirs 5 --netrc-file \"$netrc\" https://data.gesdisc.earthdata.nasa.gov/data/GPM_L3/GPM_3IMERGHH.07/2024/274/3B-HHR.MS.MRG.3IMERG.20240930-S233000-E235959.1410.V07B.HDF5 -w '\\n%{http_code}' | tail  -1`\n",
    "    if [ \"$approved\" -ne \"200\" ] && [ \"$approved\" -ne \"301\" ] && [ \"$approved\" -ne \"302\" ]; then\n",
    "        # User didn't approve the app. Direct users to approve the app in URS\n",
    "        exit_with_error \"Please ensure that you have authorized the remote application by visiting the link below \"\n",
    "    fi\n",
    "}\n",
    "\n",
    "setup_auth_curl() {\n",
    "    # Firstly, check if it require URS authentication\n",
    "    status=$(curl -s -z \"$(date)\" -w '\\n%{http_code}' https://data.gesdisc.earthdata.nasa.gov/data/GPM_L3/GPM_3IMERGHH.07/2024/274/3B-HHR.MS.MRG.3IMERG.20240930-S233000-E235959.1410.V07B.HDF5 | tail -1)\n",
    "    if [[ \"$status\" -ne \"200\" && \"$status\" -ne \"304\" ]]; then\n",
    "        # URS authentication is required. Now further check if the application/remote service is approved.\n",
    "        detect_app_approval\n",
    "    fi\n",
    "}\n",
    "\n",
    "setup_auth_wget() {\n",
    "    # The safest way to auth via curl is netrc. Note: there's no checking or feedback\n",
    "    # if login is unsuccessful\n",
    "    touch ~/.netrc\n",
    "    chmod 0600 ~/.netrc\n",
    "    credentials=$(grep 'machine urs.earthdata.nasa.gov' ~/.netrc)\n",
    "    if [ -z \"$credentials\" ]; then\n",
    "        cat \"$netrc\" >> ~/.netrc\n",
    "    fi\n",
    "}\n",
    "\n",
    "fetch_urls() {\n",
    "  if command -v curl >/dev/null 2>&1; then\n",
    "      setup_auth_curl\n",
    "      while read -r line; do\n",
    "        # Get everything after the last '/'\n",
    "        filename=\"${line##*/}\"\n",
    "\n",
    "        # Strip everything after '?'\n",
    "        stripped_query_params=\"${filename%%\\?*}\"\n",
    "\n",
    "        curl -f -b \"$cookiejar\" -c \"$cookiejar\" -L --netrc-file \"$netrc\" -g -o $stripped_query_params -- $line && echo || exit_with_error \"Command failed with error. Please retrieve the data manually.\"\n",
    "      done;\n",
    "  elif command -v wget >/dev/null 2>&1; then\n",
    "      # We can't use wget to poke provider server to get info whether or not URS was integrated without download at least one of the files.\n",
    "      echo\n",
    "      echo \"WARNING: Can't find curl, use wget instead.\"\n",
    "      echo \"WARNING: Script may not correctly identify Earthdata Login integrations.\"\n",
    "      echo\n",
    "      setup_auth_wget\n",
    "      while read -r line; do\n",
    "        # Get everything after the last '/'\n",
    "        filename=\"${line##*/}\"\n",
    "\n",
    "        # Strip everything after '?'\n",
    "        stripped_query_params=\"${filename%%\\?*}\"\n",
    "\n",
    "        wget --load-cookies \"$cookiejar\" --save-cookies \"$cookiejar\" --output-document $stripped_query_params --keep-session-cookies -- $line && echo || exit_with_error \"Command failed with error. Please retrieve the data manually.\"\n",
    "      done;\n",
    "  else\n",
    "      exit_with_error \"Error: Could not find a command-line downloader.  Please install curl or wget\"\n",
    "  fi\n",
    "}\n",
    "\n",
    "fetch_urls <<'EDSCEOF'\n",
    "\n",
    "\n",
    "EDSCEOF"
   ]
  },
  {
   "cell_type": "code",
   "execution_count": null,
   "id": "4a31689b-7cf0-4597-bfc7-6f02c7558644",
   "metadata": {},
   "outputs": [],
   "source": []
  },
  {
   "cell_type": "code",
   "execution_count": null,
   "id": "30ae7347-31f9-43c2-8898-832f2cb1cbf5",
   "metadata": {},
   "outputs": [],
   "source": []
  }
 ],
 "metadata": {
  "kernelspec": {
   "display_name": "Python 3 (ipykernel)",
   "language": "python",
   "name": "python3"
  },
  "language_info": {
   "codemirror_mode": {
    "name": "ipython",
    "version": 3
   },
   "file_extension": ".py",
   "mimetype": "text/x-python",
   "name": "python",
   "nbconvert_exporter": "python",
   "pygments_lexer": "ipython3",
   "version": "3.11.9"
  }
 },
 "nbformat": 4,
 "nbformat_minor": 5
}
